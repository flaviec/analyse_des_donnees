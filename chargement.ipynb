{
 "cells": [
  {
   "cell_type": "code",
   "execution_count": null,
   "metadata": {},
   "outputs": [],
   "source": [
    "import pandas as pd\n",
    "import snappy\n",
    "import os\n",
    "from itertools import groupby\n",
    "import pickle\n",
    "import numpy as np"
   ]
  },
  {
   "cell_type": "code",
   "execution_count": null,
   "metadata": {},
   "outputs": [],
   "source": [
    "#option d'affichage pour les df\n",
    "pd.options.display.max_rows = 999\n",
    "pd.options.display.max_columns = None"
   ]
  },
  {
   "cell_type": "code",
   "execution_count": null,
   "metadata": {},
   "outputs": [],
   "source": [
    "#choix des colonnes pour l'étude\n",
    "col = ['time', 'unknown_IMISSIONTRAINNUMBER', 'WC_CAR01_LCST_ISYSTEMLIFESIGN', 'WC_CAR03_LCST_ISYSTEMLIFESIGN', 'WC_CAR05_LCST_ISYSTEMLIFESIGN', 'WC_CAR07_LCST_ISYSTEMLIFESIGN', 'WC_CAR01_LCST_IWSUTANKLEVEL',\n",
    "'WC_CAR03_LCST_IWSUTANKLEVEL', 'WC_CAR05_LCST_IWSUTANKLEVEL', 'WC_CAR07_LCST_IWSUTANKLEVEL', 'WC_CAR01_LCST_IFWTANKCONTENT', 'WC_CAR03_LCST_IFWTANKCONTENT', 'WC_CAR05_LCST_IFWTANKCONTENT',\n",
    "'WC_CAR07_LCST_IFWTANKCONTENT', 'WC_CAR01_LCST_IWWTANKCONTENT', 'WC_CAR03_LCST_IWWTANKCONTENT', 'WC_CAR05_LCST_IWWTANKCONTENT', 'WC_CAR07_LCST_IWWTANKCONTENT', 'WC_CAR01_LCST_IWCWORKTIME',\n",
    "'WC_CAR03_LCST_IWCWORKTIME', 'WC_CAR05_LCST_IWCWORKTIME', 'WC_CAR07_LCST_IWCWORKTIME', 'WC_CAR01_LCST_IWCWORKTIMEINCOMSERVICE', 'WC_CAR03_LCST_IWCWORKTIMEINCOMSERVICE',\n",
    "'WC_CAR05_LCST_IWCWORKTIMEINCOMSERVICE', 'WC_CAR07_LCST_IWCWORKTIMEINCOMSERVICE', 'WC_CAR01_LCST_IDOORCYCLCNT', 'WC_CAR03_LCST_IDOORCYCLCNT', 'WC_CAR05_LCST_IDOORCYCLCNT',\n",
    "'WC_CAR07_LCST_IDOORCYCLCNT', 'WC_CAR01_LCST_IFLUSHCNT', 'WC_CAR03_LCST_IFLUSHCNT', 'WC_CAR05_LCST_IFLUSHCNT', 'WC_CAR07_LCST_IFLUSHCNT', 'WC_CAR01_LCST_IEJECTORCNT', \n",
    "'WC_CAR03_LCST_IEJECTORCNT', 'WC_CAR05_LCST_IEJECTORCNT', 'WC_CAR07_LCST_IEJECTORCNT',  'WC_CAR01_LCST_IWATERTAPCNT', 'WC_CAR03_LCST_IWATERTAPCNT', 'WC_CAR05_LCST_IWATERTAPCNT', \n",
    "'WC_CAR07_LCST_IWATERTAPCNT', 'WC_CAR01_LCST_IDELIMINGCNT', 'WC_CAR03_LCST_IDELIMINGCNT', 'WC_CAR05_LCST_IDELIMINGCNT', 'WC_CAR07_LCST_IDELIMINGCNT', 'WC_CAR01_LCST_IDEFROSTCNT', \n",
    "'WC_CAR03_LCST_IDEFROSTCNT', 'WC_CAR05_LCST_IDEFROSTCNT', 'WC_CAR07_LCST_IDEFROSTCNT', 'WC_CAR01_LCST_IFWT05CNT', 'WC_CAR03_LCST_IFWT05CNT', 'WC_CAR05_LCST_IFWT05CNT', 'WC_CAR07_LCST_IFWT05CNT',\n",
    "'WC_CAR01_LCST_IWWT95CNT', 'WC_CAR03_LCST_IWWT95CNT', 'WC_CAR05_LCST_IWWT95CNT', 'WC_CAR07_LCST_IWWT95CNT', 'WC_CAR01_LCST_FWCOUTOFSERVICE', 'WC_CAR03_LCST_FWCOUTOFSERVICE', \n",
    "'WC_CAR05_LCST_FWCOUTOFSERVICE', 'WC_CAR07_LCST_FWCOUTOFSERVICE', 'WC_CAR01_LCST_IWCREADY', 'WC_CAR03_LCST_IWCREADY', 'WC_CAR05_LCST_IWCREADY', 'WC_CAR07_LCST_IWCREADY', \n",
    "'WC_CAR01_LCST_FFWTEMPTY', 'WC_CAR03_LCST_FFWTEMPTY', 'WC_CAR05_LCST_FFWTEMPTY', 'WC_CAR07_LCST_FFWTEMPTY']\n"
   ]
  },
  {
   "cell_type": "code",
   "execution_count": null,
   "metadata": {},
   "outputs": [],
   "source": [
    "#adresse des données\n",
    "REP_DATA = 'D:/ESTACA/4A/Projet industriel/Données/Données_2023_03_13'"
   ]
  },
  {
   "cell_type": "code",
   "execution_count": null,
   "metadata": {},
   "outputs": [],
   "source": [
    "#liste des répertoires de données (contenant les fichiers parquet)\n",
    "content_list = os.listdir(REP_DATA)"
   ]
  },
  {
   "cell_type": "code",
   "execution_count": null,
   "metadata": {},
   "outputs": [],
   "source": [
    "#création d'un dictionnaire pour les noms de rames (clé = rame, valeur = liste des répertoires)\n",
    "#on ne garde que la premiere partie du nom des fichiers\n",
    "racine_dict = {}\n",
    "for racine, group_rep in groupby(content_list, lambda nom: nom.split('_')[0]):\n",
    "    racine_dict[racine] = list(group_rep)"
   ]
  },
  {
   "cell_type": "code",
   "execution_count": null,
   "metadata": {},
   "outputs": [],
   "source": [
    "racine_dict"
   ]
  },
  {
   "cell_type": "code",
   "execution_count": null,
   "metadata": {},
   "outputs": [],
   "source": [
    "def cnt_missions(df):\n",
    "    df['nombre_mission'] = 0\n",
    "    for t in range(0, len(df)-1):\n",
    "        if df.unknown_IMISSIONTRAINNUMBER[t]!=df.unknown_IMISSIONTRAINNUMBER[t+1]:\n",
    "            df['nombre_mission'][t] = 1"
   ]
  },
  {
   "cell_type": "code",
   "execution_count": null,
   "metadata": {},
   "outputs": [],
   "source": [
    "def remplissage_WSU(df):\n",
    "    for voiture in ['CAR01', 'CAR03', 'CAR05', 'CAR07']:\n",
    "        df['WC_'+voiture+'_LCST_remplissageWSU'] = 0\n",
    "        for t in range(0, len(df)-1):\n",
    "            if df['WC_'+voiture+'_LCST_IWSUTANKLEVEL'][t]<df['WC_'+voiture+'_LCST_IWSUTANKLEVEL'][t+1]:\n",
    "                df['WC_'+voiture+'_LCST_remplissageWSU'][t] = 1"
   ]
  },
  {
   "cell_type": "code",
   "execution_count": null,
   "metadata": {},
   "outputs": [],
   "source": [
    "def consommation(df):\n",
    "    for voiture in ['CAR01', 'CAR03', 'CAR05', 'CAR07']:\n",
    "        df['WC_'+voiture+'_LCST_consommation'] = df['WC_'+voiture+'_LCST_IWATERTAPCNT']*0.4+1.14*df['WC_'+voiture+'_LCST_remplissageWSU']"
   ]
  },
  {
   "cell_type": "code",
   "execution_count": null,
   "metadata": {},
   "outputs": [],
   "source": [
    "def remplissage_instantane(df):\n",
    "    for voiture in ['CAR01', 'CAR03', 'CAR05', 'CAR07']:\n",
    "        df['WC_'+voiture+'_LCST_remplissageInstantané%'] = (df['WC_'+voiture+'_LCST_IFLUSHCNT']*0.8*100)/315"
   ]
  },
  {
   "cell_type": "code",
   "execution_count": null,
   "metadata": {},
   "outputs": [],
   "source": [
    "#création d'un dictionnaire de df en fonction des rames (clé = rame, valeur = df de données)\n",
    "#lecture de tous les fichiers qui se rapportent à la même rame\n",
    "#suppression de la dernière ligne car que des NaN dedans\n",
    "#conversion du code mission en int pour que les 16 chiffres s'affichent\n",
    "dict_df = {}\n",
    "for rac, reps in racine_dict.items():\n",
    "    df_list = []\n",
    "    for rep in reps:\n",
    "        df_temp = pd.read_parquet(REP_DATA + '/' + rep + '/TT_IP.parquet')\n",
    "        df_temp = df_temp.loc[:, col].iloc[:-1]\n",
    "        df_temp.unknown_IMISSIONTRAINNUMBER = df_temp.unknown_IMISSIONTRAINNUMBER.astype(np.int64)\n",
    "        df_temp = df_temp.rename(columns={\"time\":'x_time'})\n",
    "        df_list.append(df_temp)\n",
    "        #df_temp.drop(df_temp.loc[df_temp['unknown_IMISSIONTRAINNUMBER']==0].index, inplace=True)\n",
    "    df_concat = pd.concat(df_list, ignore_index=True)\n",
    "    cnt_missions(df_concat)\n",
    "    remplissage_WSU(df_concat)\n",
    "    consommation(df_concat)\n",
    "    remplissage_instantane(df_concat)\n",
    "    dict_df[rac] = df_concat"
   ]
  },
  {
   "cell_type": "code",
   "execution_count": null,
   "metadata": {},
   "outputs": [],
   "source": [
    "#sauvegarde du dictionnaire de df des rames en pickle\n",
    "with open('dict_df.pkl', 'wb') as file:      \n",
    "    pickle.dump(dict_df, file)"
   ]
  },
  {
   "cell_type": "code",
   "execution_count": null,
   "metadata": {},
   "outputs": [],
   "source": [
    "#création du dictionnaire de df en fonction des missions de chaque rame (clé : rame, valeur : dictionnaire(clé = mission, valeur = df de données))\n",
    "#lecture de toutes les missions possible d'une rame\n",
    "dict_missions = {}\n",
    "for rame, datas in dict_df.items():\n",
    "    dict_mission_rame = {}\n",
    "    missions = datas.unknown_IMISSIONTRAINNUMBER.unique()\n",
    "    for mission in missions :\n",
    "        df_temp = datas.query('unknown_IMISSIONTRAINNUMBER == @mission') #@ car mission variable externe a df\n",
    "        dict_mission_rame[mission] = df_temp\n",
    "    dict_missions[rame]=dict_mission_rame"
   ]
  },
  {
   "cell_type": "code",
   "execution_count": null,
   "metadata": {},
   "outputs": [],
   "source": [
    "#sauvegarde du dictionnaire des missions en fonction des rames dans un pickle\n",
    "with open('dict_rame_missions.pkl', 'wb') as file:      \n",
    "    pickle.dump(dict_missions, file)"
   ]
  },
  {
   "cell_type": "code",
   "execution_count": null,
   "metadata": {},
   "outputs": [],
   "source": [
    "# exemple de résultat : affichage des missions 0 de la rame z5500503\n",
    "dict_missions['z5500503'][3836323437392020]"
   ]
  },
  {
   "cell_type": "code",
   "execution_count": null,
   "metadata": {},
   "outputs": [],
   "source": [
    "#exemple de résultat : affichage de toutes les données de z5500503\n",
    "dict_df['z5500503']"
   ]
  },
  {
   "cell_type": "code",
   "execution_count": null,
   "metadata": {},
   "outputs": [],
   "source": [
    "dict_df['z5500503'].describe()"
   ]
  },
  {
   "cell_type": "code",
   "execution_count": null,
   "metadata": {},
   "outputs": [],
   "source": [
    "dict_df['z5500503'].plot(x='x_time', y='WC_CAR01_LCST_IDOORCYCLCNT')"
   ]
  },
  {
   "cell_type": "code",
   "execution_count": null,
   "metadata": {},
   "outputs": [],
   "source": []
  }
 ],
 "metadata": {
  "kernelspec": {
   "display_name": "base",
   "language": "python",
   "name": "python3"
  },
  "language_info": {
   "codemirror_mode": {
    "name": "ipython",
    "version": 3
   },
   "file_extension": ".py",
   "mimetype": "text/x-python",
   "name": "python",
   "nbconvert_exporter": "python",
   "pygments_lexer": "ipython3",
   "version": "3.9.12"
  },
  "orig_nbformat": 4,
  "vscode": {
   "interpreter": {
    "hash": "02501473eb041a161c61fd3ca20e3fda48ac334b31f985a5bd6bd7f891fd4d4d"
   }
  }
 },
 "nbformat": 4,
 "nbformat_minor": 2
}
